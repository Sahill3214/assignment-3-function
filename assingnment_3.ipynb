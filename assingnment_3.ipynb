{
  "nbformat": 4,
  "nbformat_minor": 0,
  "metadata": {
    "colab": {
      "provenance": []
    },
    "kernelspec": {
      "name": "python3",
      "display_name": "Python 3"
    },
    "language_info": {
      "name": "python"
    }
  },
  "cells": [
    {
      "cell_type": "markdown",
      "source": [
        "1. What is the difference between a funtion and a method in python."
      ],
      "metadata": {
        "id": "n4PhHUtWQ9R6"
      }
    },
    {
      "cell_type": "markdown",
      "source": [
        "In Python, functions and methods are both blocks of code that perform a specific task, but there are key differences between them:\n",
        "\n",
        "1. Function:\n",
        "A function is a block of reusable code that is defined outside of a class.\n",
        "It can be called independently, without the need for any object.\n",
        "\n",
        "\n",
        "Example of a function:"
      ],
      "metadata": {
        "id": "E-ybrl9rSh1L"
      }
    },
    {
      "cell_type": "code",
      "execution_count": null,
      "metadata": {
        "id": "AuqCda4tQztM"
      },
      "outputs": [],
      "source": [
        "def greet(sahil):\n",
        "    return f\"Hello, {sahil}\"\n",
        "    print(greet(\"sahil\"))"
      ]
    },
    {
      "cell_type": "markdown",
      "source": [
        "In this case, greet is a function that takes a name as input and returns a greeting.\n",
        "\n",
        "2. Method:\n",
        "A method is a function that is associated with an object. It is defined inside a class and is used to operate on instances of that class.\n",
        "Methods require an instance of the class to be called (except for static methods).\n",
        "\n",
        "\n",
        "Example of a method:"
      ],
      "metadata": {
        "id": "QtqcBfooW9DT"
      }
    },
    {
      "cell_type": "code",
      "source": [
        "class Car:\n",
        "    def __init__(self, brand, model): # Changed _init_ to __init__\n",
        "        self.brand = brand\n",
        "        self.model = model\n",
        "\n",
        "    def start(self):\n",
        "        return f\"The {self.brand}{self.model} is starting.\"\n",
        "\n",
        "    def stop(self):\n",
        "        return f\"The {self.brand} {self.model} is stopping.\"\n",
        "\n",
        "my_car = Car(\"Toyota\",\"Corolla\")\n"
      ],
      "metadata": {
        "colab": {
          "base_uri": "https://localhost:8080/"
        },
        "id": "X49tnFHwSy60",
        "outputId": "ebbbfa5c-db42-4575-eb23-2f251d0e6e42"
      },
      "execution_count": null,
      "outputs": [
        {
          "output_type": "stream",
          "name": "stdout",
          "text": [
            "The ToyotaCorolla is starting.\n"
          ]
        }
      ]
    },
    {
      "cell_type": "markdown",
      "source": [
        "2. Explain the concept of functions arguments and parameters in python."
      ],
      "metadata": {
        "id": "BaZ_hjenYjFW"
      }
    },
    {
      "cell_type": "markdown",
      "source": [
        "In Python, function arguments and parameters are fundamental concepts that relate to how data is passed to a function and how the function handles that data.\n",
        "\n",
        "Parameters vs. Arguments:\n",
        "Parameters: These are variables listed inside the parentheses in the function definition. They act as placeholders for the values (arguments) that will be passed to the function.\n",
        "\n",
        "Arguments: These are the actual values you provide to the function when calling it. They are assigned to the function's parameters.\n",
        "\n",
        "Example:"
      ],
      "metadata": {
        "id": "VpVyI26lZPQN"
      }
    },
    {
      "cell_type": "code",
      "source": [
        "def add_numbers(a, b):\n",
        "    return a + b\n",
        "    result = add_numbers(5, 10)\n",
        "    print(result)"
      ],
      "metadata": {
        "id": "_2UMv0zpXSgA"
      },
      "execution_count": null,
      "outputs": []
    },
    {
      "cell_type": "markdown",
      "source": [
        "In this example:\n",
        "\n",
        "a and b are parameters of the add_numbers function.\n",
        "\n",
        "\n",
        "5 and 10 are arguments that are passed to the function when it is called."
      ],
      "metadata": {
        "id": "tlGpoMCXZgJu"
      }
    },
    {
      "cell_type": "markdown",
      "source": [
        "3.what are the diffrent way to define and call function in python."
      ],
      "metadata": {
        "id": "CrzmO2MQZmeZ"
      }
    },
    {
      "cell_type": "markdown",
      "source": [
        "In Python, functions can be defined and called in several different ways depending on the use case. Below are the different ways to define and call functions in Python with examples.\n",
        "\n",
        "1. Regular Function Definition and Call\n",
        "This is the most basic way to define a function with a def keyword and call it by its name.\n",
        "\n",
        "Example:"
      ],
      "metadata": {
        "id": "1MagryqSbIkd"
      }
    },
    {
      "cell_type": "code",
      "source": [
        "# Function definition\n",
        "def greet(name):\n",
        "    return f\"Hello, {name}\"\n",
        "\n",
        "# Function call\n",
        "print(greet(\"sahil\"))"
      ],
      "metadata": {
        "colab": {
          "base_uri": "https://localhost:8080/"
        },
        "id": "IRWfLB0XZbte",
        "outputId": "2a676bf0-804b-4e02-ff07-8277d402dd59"
      },
      "execution_count": null,
      "outputs": [
        {
          "output_type": "stream",
          "name": "stdout",
          "text": [
            "Hello, sahil\n"
          ]
        }
      ]
    },
    {
      "cell_type": "markdown",
      "source": [
        "2. Function with Default Arguments\n",
        "A function can have default values for its parameters. If an argument is not passed, the default value will be used.\n",
        "\n",
        "Example:"
      ],
      "metadata": {
        "id": "buAD8kYabq-0"
      }
    },
    {
      "cell_type": "code",
      "source": [
        "def greet(name, message=\"Hello\"):\n",
        "    return f\"{message}, {name}\"\n",
        "\n",
        "# Function calls\n",
        "print(greet(\"sahil\"))\n",
        "print(greet(\"sahil\", \"Good evening\"))"
      ],
      "metadata": {
        "colab": {
          "base_uri": "https://localhost:8080/"
        },
        "id": "w_v67HJ5bOOS",
        "outputId": "343d5032-a38e-4701-b15a-7282cd7966ce"
      },
      "execution_count": null,
      "outputs": [
        {
          "output_type": "stream",
          "name": "stdout",
          "text": [
            "Hello, sahil\n",
            "Good evening, sahil\n"
          ]
        }
      ]
    },
    {
      "cell_type": "markdown",
      "source": [
        "3. Function with Keyword Arguments\n",
        "You can call a function by explicitly naming the arguments, regardless of the order in which they appear.\n",
        "\n",
        "Example:"
      ],
      "metadata": {
        "id": "ItngUT29b4-9"
      }
    },
    {
      "cell_type": "code",
      "source": [
        "def describe_person(name, age):\n",
        "    return f\"{name} is {age} years old.\"\n",
        "\n",
        "# Calling with keyword arguments (order doesn't matter)\n",
        "print(describe_person(age=25, name=\"sahil\"))"
      ],
      "metadata": {
        "colab": {
          "base_uri": "https://localhost:8080/"
        },
        "id": "nEdd6lQEb3ho",
        "outputId": "fc61a906-84bd-4af3-c8ea-99330f3db3df"
      },
      "execution_count": null,
      "outputs": [
        {
          "output_type": "stream",
          "name": "stdout",
          "text": [
            "sahil is 25 years old.\n"
          ]
        }
      ]
    },
    {
      "cell_type": "markdown",
      "source": [
        "4. Function with Variable-Length Arguments (*args)\n",
        "You can define a function that accepts a variable number of positional arguments using *args.\n",
        "\n",
        "Example:"
      ],
      "metadata": {
        "id": "9kZOjdZ3cEif"
      }
    },
    {
      "cell_type": "code",
      "source": [
        "def add_numbers(*args):\n",
        "    return sum(args)\n",
        "\n",
        "# Function call with multiple arguments\n",
        "print(add_numbers(1, 2, 3, 4))"
      ],
      "metadata": {
        "colab": {
          "base_uri": "https://localhost:8080/"
        },
        "id": "Mvvwn1B9cDBl",
        "outputId": "6f047f05-2b9e-4db8-e609-dfe510377de0"
      },
      "execution_count": null,
      "outputs": [
        {
          "output_type": "stream",
          "name": "stdout",
          "text": [
            "10\n"
          ]
        }
      ]
    },
    {
      "cell_type": "markdown",
      "source": [
        "5. Function with Variable-Length Keyword Arguments (**kwargs)\n",
        "You can define a function that accepts a variable number of keyword arguments using **kwargs.\n",
        "\n",
        "Example:"
      ],
      "metadata": {
        "id": "mUr7yTx5cQxk"
      }
    },
    {
      "cell_type": "code",
      "source": [
        "def display_info(**kwargs):\n",
        "    for key, value in kwargs.items():\n",
        "        print(f\"{key}: {value}\")\n",
        "\n",
        "# Function call with multiple keyword arguments\n",
        "display_info(name=\"sahil\", age=25, job=\"player\")"
      ],
      "metadata": {
        "colab": {
          "base_uri": "https://localhost:8080/"
        },
        "id": "f-C43hxQcMz4",
        "outputId": "1a372de2-7b27-4711-9e5d-651e43cc17cd"
      },
      "execution_count": null,
      "outputs": [
        {
          "output_type": "stream",
          "name": "stdout",
          "text": [
            "name: sahil\n",
            "age: 25\n",
            "job: player\n"
          ]
        }
      ]
    },
    {
      "cell_type": "markdown",
      "source": [
        "4.What is the purpose of 'return' statement in python function?"
      ],
      "metadata": {
        "id": "4DTlurGEccQV"
      }
    },
    {
      "cell_type": "markdown",
      "source": [
        " The *return* statement in Python is used to exit a function and send a value back to the caller. It specifies what value the function should produce when it is finished executing. If a return statement is not used, the function will return None by default.\n",
        "\n",
        "Key Purposes of the return Statement:\n",
        "\n",
        " 1.Return a Value to the Caller: The return statement allows you to pass data (like numbers, strings, lists, etc.) back to the code that called the function.\n",
        "\n",
        "\n",
        " 2.Terminate the Function: Once the return statement is executed, the function stops executing further code and exits.\n",
        "\n",
        " 3.Multiple Return Values: You can return multiple values by separating them with commas, and these values will be returned as a tuple.\n",
        "\n",
        "Example 1: Returning a Single Value"
      ],
      "metadata": {
        "id": "cR9TvNjzdazy"
      }
    },
    {
      "cell_type": "code",
      "source": [
        "def add(a, b):\n",
        "    return a + b\n",
        "\n",
        "result = add(3, 5)\n",
        "print(result)"
      ],
      "metadata": {
        "colab": {
          "base_uri": "https://localhost:8080/"
        },
        "id": "yl93YHa6cami",
        "outputId": "ba5ded0c-9d27-4c08-d35a-5c9152310238"
      },
      "execution_count": null,
      "outputs": [
        {
          "output_type": "stream",
          "name": "stdout",
          "text": [
            "8\n"
          ]
        }
      ]
    },
    {
      "cell_type": "markdown",
      "source": [
        "5.What are iterators in python and how they differ from iterables?"
      ],
      "metadata": {
        "id": "PvpTheYedx3W"
      }
    },
    {
      "cell_type": "markdown",
      "source": [
        "Iterator\n",
        "An iterator is an object that represents a stream of data. It produces one value at a time when you call the next() function on it. It keeps track of its state, meaning it knows what the next item to return is. Once the iterator has returned all of its items, it raises a StopIteration exception.\n",
        "\n",
        "An iterator must implement two methods:\n",
        "\n",
        "_iter_() - returns the iterator object itself.\n",
        "\n",
        "_next_() - returns the next element in the sequence.\n",
        "\n",
        "\n",
        "You can obtain an iterator from an iterable by using the iter() function:"
      ],
      "metadata": {
        "id": "fsK0ssMxe68r"
      }
    },
    {
      "cell_type": "code",
      "source": [
        "my_list = [1, 2, 3]\n",
        "my_iterator = iter(my_list)\n",
        "\n",
        "print(next(my_iterator))\n",
        "print(next(my_iterator))\n",
        "print(next(my_iterator))   # Raises StopIteration"
      ],
      "metadata": {
        "colab": {
          "base_uri": "https://localhost:8080/"
        },
        "id": "9R4ZgbV3ds8V",
        "outputId": "edbb2bdb-0b56-4600-ab11-94c74073f384"
      },
      "execution_count": null,
      "outputs": [
        {
          "output_type": "stream",
          "name": "stdout",
          "text": [
            "1\n",
            "2\n",
            "3\n"
          ]
        }
      ]
    },
    {
      "cell_type": "markdown",
      "source": [
        "Key Differences\n",
        "Iterable: An object that can return an iterator (like a list, tuple, or string).\n",
        "\n",
        "You can loop over it using a for loop.\n",
        "It doesn't keep track of the iteration state.\n",
        "It has a _iter_() method that returns an iterator.\n",
        "Iterator: An object that enables you to iterate over the elements of an iterable.\n",
        "\n",
        "It implements both _iter() and __next_() methods.\n",
        "Keeps track of where it is in the iteration process.\n",
        "When exhausted, raises a StopIteration exception."
      ],
      "metadata": {
        "id": "nfJXBF-9fl5Q"
      }
    },
    {
      "cell_type": "markdown",
      "source": [
        "6.Explain the concept of generators in python and how they are defined?"
      ],
      "metadata": {
        "id": "MQzez_YefqQh"
      }
    },
    {
      "cell_type": "markdown",
      "source": [
        "A generator is a special kind of iterator, defined using a function rather than a class. It yields values one at a time as it generates them, allowing you to iterate over potentially large data sets without storing them all in memory. Once the generator yields a value, it \"pauses\" execution, and it will resume from that point when you ask for the next value.\n",
        "\n",
        "\n",
        "Generators are defined using the yield keyword inside a function. The key difference between a generator and a regular function is that instead of returning a single value using the return statement, the generator yields multiple values one at a time, each time it is called.\n",
        "\n",
        "Example of a Simple Generator:"
      ],
      "metadata": {
        "id": "2Driv-8ugVg_"
      }
    },
    {
      "cell_type": "code",
      "source": [
        "def simple_generator():\n",
        "    yield 1\n",
        "    yield 2\n",
        "    yield 3\n",
        "\n",
        "gen = simple_generator()  # creates a generator\n",
        "\n",
        "print(next(gen))\n",
        "print(next(gen))\n",
        "print(next(gen))    # Raises StopIteration"
      ],
      "metadata": {
        "colab": {
          "base_uri": "https://localhost:8080/"
        },
        "id": "XWptxBNYfNLt",
        "outputId": "19e77015-7a68-484a-ccb1-5a6190dec5a0"
      },
      "execution_count": null,
      "outputs": [
        {
          "output_type": "stream",
          "name": "stdout",
          "text": [
            "1\n",
            "2\n",
            "3\n"
          ]
        }
      ]
    },
    {
      "cell_type": "markdown",
      "source": [
        "7. What are the advantages of using generator over regular functions."
      ],
      "metadata": {
        "id": "8-Hm4apkgoJ2"
      }
    },
    {
      "cell_type": "markdown",
      "source": [
        "Generators in Python provide several advantages over regular functions, particularly when it comes to handling large datasets, managing state, and writing more efficient code. Here are some key benefits:\n",
        "\n",
        "1.Memory Efficiency: Generators yield items one at a time and only when\n",
        "\n",
        "requested, which can significantly reduce memory usage compared to functions that return large data structures like lists. This is especially useful for iterating over large datasets.\n",
        "\n",
        "2.Lazy Evaluation: Since generators compute values on-the-fly, they allow for lazy evaluation. This means that values are generated only as needed, which can improve performance and reduce overhead.\n",
        "\n",
        "3.State Retention: Generators maintain their state between calls. This allows them to remember where they left off without needing to explicitly store and manage the state, making them useful for complex iteration patterns.\n",
        "\n",
        "4.Simpler Code: Writing iterators as generators often leads to more concise and readable code. The syntax for defining a generator with yield can be cleaner than managing iterator classes.\n",
        "\n",
        "4.Infinite Sequences: Generators can easily represent infinite sequences (like data streams) since they only generate values on demand. This makes them suitablPipelining: Generators can be used to create data processing pipelines. Mue for scenarios where you don’t know the size of the dataset upfront.\n",
        "\n",
        "5.ltiple generators can be chained together, allowing for efficient processing of data in stages without loading everything into memory.\n",
        "\n",
        "6.Concurrency: Generators can be used for asynchronous programming with the async and await keywords, enabling more efficient I/O-bound operations.\n",
        "\n",
        "Overall, generators are a powerful tool in Python that can lead to more efficient and manageable code in many scenarios."
      ],
      "metadata": {
        "id": "SBWD1u_JhMsx"
      }
    },
    {
      "cell_type": "markdown",
      "source": [
        "8. What is lambda function in python and when is it typically used?"
      ],
      "metadata": {
        "id": "DzT2fc5_hggi"
      }
    },
    {
      "cell_type": "markdown",
      "source": [
        "A lambda function in Python is an anonymous function defined using the lambda keyword. Unlike regular functions defined with the def keyword, lambda functions are usually used for short, simple operations that are defined in a single line. The syntax for a lambda function is:"
      ],
      "metadata": {
        "id": "fSwcz1cLiYcG"
      }
    },
    {
      "cell_type": "markdown",
      "source": [
        "Typical Use Cases:\n",
        "Lambda functions are commonly used in situations where you need a simple function for a short duration, particularly in functional programming contexts. Some typical use cases include:\n",
        "\n",
        "Short Functions: When you need a simple function without the overhead of defining a full function.\n",
        "\n",
        "For example"
      ],
      "metadata": {
        "id": "_I7uO8h4idU_"
      }
    },
    {
      "cell_type": "code",
      "source": [
        "add = lambda x, y: x + y\n",
        "print(add(3, 5))"
      ],
      "metadata": {
        "colab": {
          "base_uri": "https://localhost:8080/"
        },
        "id": "RCl7sCZQgi7v",
        "outputId": "42f1917f-9010-4ee6-fc11-1c5aeddebbcf"
      },
      "execution_count": null,
      "outputs": [
        {
          "output_type": "stream",
          "name": "stdout",
          "text": [
            "8\n"
          ]
        }
      ]
    },
    {
      "cell_type": "markdown",
      "source": [
        "Higher-Order Functions: They are often used as arguments to higher-order functions, such as map(), filter(), and sorted(). For example:\n",
        "\n",
        "Using with map():"
      ],
      "metadata": {
        "id": "iGr9yqv6imsz"
      }
    },
    {
      "cell_type": "code",
      "source": [
        "numbers = [1, 2, 3, 4]\n",
        "squares = list(map(lambda x: x ** 2, numbers))\n",
        "print(squares)"
      ],
      "metadata": {
        "colab": {
          "base_uri": "https://localhost:8080/"
        },
        "id": "EtIKp7XYilM-",
        "outputId": "3a90c96f-b302-40d8-b104-2505f7da4d2f"
      },
      "execution_count": null,
      "outputs": [
        {
          "output_type": "stream",
          "name": "stdout",
          "text": [
            "[1, 4, 9, 16]\n"
          ]
        }
      ]
    },
    {
      "cell_type": "markdown",
      "source": [
        "Using with filter():"
      ],
      "metadata": {
        "id": "AGDMWwiBixB_"
      }
    },
    {
      "cell_type": "code",
      "source": [
        "numbers = [1, 2, 3, 4, 5]\n",
        "even_numbers = list(filter(lambda x: x % 2 == 0, numbers))\n",
        "print(even_numbers)"
      ],
      "metadata": {
        "colab": {
          "base_uri": "https://localhost:8080/"
        },
        "id": "XDJLxcX3itqz",
        "outputId": "fa02555a-76cf-41de-a51c-4f7440f43316"
      },
      "execution_count": null,
      "outputs": [
        {
          "output_type": "stream",
          "name": "stdout",
          "text": [
            "[2, 4]\n"
          ]
        }
      ]
    },
    {
      "cell_type": "markdown",
      "source": [
        "9.Explain the purpose and usage of 'map()'in python function."
      ],
      "metadata": {
        "id": "lHgRSC44i5qO"
      }
    },
    {
      "cell_type": "markdown",
      "source": [
        "Transformation: map() is primarily used for transforming data. You can apply a function to all items in an iterable to produce a new iterable with the transformed data.\n",
        "\n",
        "\n",
        "Efficiency: By using map(), you can often write cleaner and more efficient code compared to using loops, especially for large datasets.\n",
        "Functional Programming: map() promotes a functional programming style, allowing you to work with data in a more declarative way.\n",
        "Syntax\n",
        "\n",
        "\n",
        "The syntax for map() is as follows:"
      ],
      "metadata": {
        "id": "r4rKSOvLkCDq"
      }
    },
    {
      "cell_type": "code",
      "source": [
        "numbers = [1, 2, 3, 4, 5]\n",
        "\n",
        "\n",
        "def square(x):\n",
        "  return x * x\n",
        "\n",
        "squared_numbers = list(map(square, numbers))\n",
        "\n",
        "print(squared_numbers)"
      ],
      "metadata": {
        "colab": {
          "base_uri": "https://localhost:8080/"
        },
        "id": "QGy__rwQi4eI",
        "outputId": "7a2a6d88-4a81-491c-ed2f-b6e16eb97497"
      },
      "execution_count": null,
      "outputs": [
        {
          "output_type": "stream",
          "name": "stdout",
          "text": [
            "[1, 4, 9, 16, 25]\n"
          ]
        }
      ]
    },
    {
      "cell_type": "markdown",
      "source": [
        "function: The function that will be applied to each item in the iterable. This can be a standard function, a lambda function, or any callable object.\n",
        "iterable: The iterable (e.g., list, tuple) whose items will be processed. You can also pass multiple iterables, and the function will be applied to the items in parallel.\n",
        "...: Additional iterables (optional). If provided, the function must take as many arguments as there are iterables.\n",
        "\n",
        "\n",
        "Usage Examples\n",
        "\n",
        "Basic Example with a Function:"
      ],
      "metadata": {
        "id": "qQ_wPKzukiOL"
      }
    },
    {
      "cell_type": "code",
      "source": [
        "def square(x):\n",
        "    return x ** 2\n",
        "\n",
        "numbers = [1, 2, 3, 4, 5]\n",
        "squared_numbers = map(square, numbers)\n",
        "print(list(squared_numbers))"
      ],
      "metadata": {
        "colab": {
          "base_uri": "https://localhost:8080/"
        },
        "id": "S-owFKTbkNr2",
        "outputId": "6cf651e1-3814-4bc5-9b34-028f462fd557"
      },
      "execution_count": null,
      "outputs": [
        {
          "output_type": "stream",
          "name": "stdout",
          "text": [
            "[1, 4, 9, 16, 25]\n"
          ]
        }
      ]
    },
    {
      "cell_type": "markdown",
      "source": [
        "2.Using a Lambda Function:"
      ],
      "metadata": {
        "id": "v-kZacWokxiy"
      }
    },
    {
      "cell_type": "code",
      "source": [
        "numbers = [1, 2, 3, 4, 5]\n",
        "squared_numbers = map(lambda x: x ** 2, numbers)\n",
        "print(list(squared_numbers))"
      ],
      "metadata": {
        "colab": {
          "base_uri": "https://localhost:8080/"
        },
        "id": "LkDBJtVCkwFx",
        "outputId": "1bd652a6-1c88-4731-f34a-404df390deca"
      },
      "execution_count": null,
      "outputs": [
        {
          "output_type": "stream",
          "name": "stdout",
          "text": [
            "[1, 4, 9, 16, 25]\n"
          ]
        }
      ]
    },
    {
      "cell_type": "markdown",
      "source": [
        "3.Using with Multiple Iterables:"
      ],
      "metadata": {
        "id": "fb3KzNX6lARx"
      }
    },
    {
      "cell_type": "code",
      "source": [
        "numbers1 = [1, 2, 3]\n",
        "numbers2 = [4, 5, 6]\n",
        "sum_numbers = map(lambda x, y: x + y, numbers1, numbers2)\n",
        "print(list(sum_numbers))"
      ],
      "metadata": {
        "colab": {
          "base_uri": "https://localhost:8080/"
        },
        "id": "LNFLcK1Kk-2W",
        "outputId": "5f0730cc-e12d-41ae-899a-ec5288e3e2c7"
      },
      "execution_count": null,
      "outputs": [
        {
          "output_type": "stream",
          "name": "stdout",
          "text": [
            "[5, 7, 9]\n"
          ]
        }
      ]
    },
    {
      "cell_type": "markdown",
      "source": [
        "4.Working with Strings:"
      ],
      "metadata": {
        "id": "70JQONnmlQMn"
      }
    },
    {
      "cell_type": "code",
      "source": [
        "words = [\"hello\", \"world\"]\n",
        "uppercased_words = map(str.upper, words)\n",
        "print(list(uppercased_words))"
      ],
      "metadata": {
        "colab": {
          "base_uri": "https://localhost:8080/"
        },
        "id": "g5lwESfElJD-",
        "outputId": "859872ed-43ff-4f4a-8e59-0b0d1aef8da1"
      },
      "execution_count": null,
      "outputs": [
        {
          "output_type": "stream",
          "name": "stdout",
          "text": [
            "['HELLO', 'WORLD']\n"
          ]
        }
      ]
    },
    {
      "cell_type": "markdown",
      "source": [
        "10.What is the difference between 'map()','reduce()',and 'filter()' fumction in python."
      ],
      "metadata": {
        "id": "p7CfgD0o3TT0"
      }
    },
    {
      "cell_type": "markdown",
      "source": [
        "The map(), reduce(), and filter() functions in Python are all used to process iterables (like lists or tuples) in a functional programming style. However, they serve different purposes and have distinct behaviors. Here’s a breakdown of each function, including their differences:\n",
        "\n",
        "1. map()\n",
        "Purpose: Applies a given function to every item of an iterable (e.g., a list) and returns an iterator (or map object) yielding the results.\n",
        "Usage: When you want to transform or modify each element in an iterable.\n",
        "Syntax: map(function, iterable, ...)\n",
        "Returns: An iterator that produces the results of applying the function.\n",
        "\n",
        "\n",
        "Example:"
      ],
      "metadata": {
        "id": "XZMiDV8gCNUi"
      }
    },
    {
      "cell_type": "code",
      "source": [
        "numbers = [1, 2, 3, 4]\n",
        "squared = map(lambda x: x ** 2, numbers)\n",
        "print(list(squared))"
      ],
      "metadata": {
        "id": "OoFOzqFrlZS2",
        "colab": {
          "base_uri": "https://localhost:8080/"
        },
        "outputId": "55f3dc2c-56fd-43bd-f8cf-8bc2d890feaf"
      },
      "execution_count": 36,
      "outputs": [
        {
          "output_type": "stream",
          "name": "stdout",
          "text": [
            "[1, 4, 9, 16]\n"
          ]
        }
      ]
    },
    {
      "cell_type": "markdown",
      "source": [
        "2.reduce()\n",
        "Purpose: Applies a binary function cumulatively to the items of an iterable, reducing it to a single cumulative value.\n",
        "\n",
        "Usage: When you need to compute a single value (like a sum or product) from a list of values.\n",
        "\n",
        "Syntax: reduce(function, iterable[, initializer])\n",
        "\n",
        "Returns: A single value obtained by reducing the iterable.\n",
        "\n",
        "\n",
        "Example:"
      ],
      "metadata": {
        "id": "UQAhTfiFCg_l"
      }
    },
    {
      "cell_type": "code",
      "source": [
        "from functools import reduce\n",
        "\n",
        "numbers = [1, 2, 3, 4]\n",
        "total = reduce(lambda x, y: x + y, numbers)\n",
        "print(total)"
      ],
      "metadata": {
        "colab": {
          "base_uri": "https://localhost:8080/"
        },
        "id": "lx8ievPcCaDs",
        "outputId": "6b7e6f57-2cc4-4e63-fc93-ed72246013db"
      },
      "execution_count": 38,
      "outputs": [
        {
          "output_type": "stream",
          "name": "stdout",
          "text": [
            "10\n"
          ]
        }
      ]
    },
    {
      "cell_type": "markdown",
      "source": [
        "filter()\n",
        "Purpose: Constructs an iterator from elements of an iterable for which a function returns true (i.e., filters the iterable based on a condition).\n",
        "\n",
        "Usage: When you want to filter items in an iterable based on some criteria.\n",
        "\n",
        "Syntax: filter(function, iterable)\n",
        "\n",
        "Returns: An iterator that produces the elements for which the function returns true.\n",
        "\n",
        "Example:"
      ],
      "metadata": {
        "id": "C2yvpWu6C-9E"
      }
    },
    {
      "cell_type": "code",
      "source": [
        "numbers = [1, 2, 3, 4]\n",
        "even_numbers = filter(lambda x: x % 2 == 0, numbers)\n",
        "print(list(even_numbers))"
      ],
      "metadata": {
        "colab": {
          "base_uri": "https://localhost:8080/"
        },
        "id": "5FW9RKA_Cv5-",
        "outputId": "dceaa1f3-6a14-4b11-df16-b2052ba88704"
      },
      "execution_count": 40,
      "outputs": [
        {
          "output_type": "stream",
          "name": "stdout",
          "text": [
            "[2, 4]\n"
          ]
        }
      ]
    },
    {
      "cell_type": "markdown",
      "source": [
        "11.Image.."
      ],
      "metadata": {
        "id": "J3gdwcDSDMjQ"
      }
    },
    {
      "cell_type": "code",
      "source": [
        "from google.colab import files\n",
        "uploaded = files.upload()"
      ],
      "metadata": {
        "colab": {
          "base_uri": "https://localhost:8080/",
          "height": 73
        },
        "id": "EZFcy3doDHv9",
        "outputId": "271cea62-f237-427b-b8cc-84798b448adb"
      },
      "execution_count": 41,
      "outputs": [
        {
          "output_type": "display_data",
          "data": {
            "text/plain": [
              "<IPython.core.display.HTML object>"
            ],
            "text/html": [
              "\n",
              "     <input type=\"file\" id=\"files-b8b0e057-1293-4d70-bafd-ce5321ee3db5\" name=\"files[]\" multiple disabled\n",
              "        style=\"border:none\" />\n",
              "     <output id=\"result-b8b0e057-1293-4d70-bafd-ce5321ee3db5\">\n",
              "      Upload widget is only available when the cell has been executed in the\n",
              "      current browser session. Please rerun this cell to enable.\n",
              "      </output>\n",
              "      <script>// Copyright 2017 Google LLC\n",
              "//\n",
              "// Licensed under the Apache License, Version 2.0 (the \"License\");\n",
              "// you may not use this file except in compliance with the License.\n",
              "// You may obtain a copy of the License at\n",
              "//\n",
              "//      http://www.apache.org/licenses/LICENSE-2.0\n",
              "//\n",
              "// Unless required by applicable law or agreed to in writing, software\n",
              "// distributed under the License is distributed on an \"AS IS\" BASIS,\n",
              "// WITHOUT WARRANTIES OR CONDITIONS OF ANY KIND, either express or implied.\n",
              "// See the License for the specific language governing permissions and\n",
              "// limitations under the License.\n",
              "\n",
              "/**\n",
              " * @fileoverview Helpers for google.colab Python module.\n",
              " */\n",
              "(function(scope) {\n",
              "function span(text, styleAttributes = {}) {\n",
              "  const element = document.createElement('span');\n",
              "  element.textContent = text;\n",
              "  for (const key of Object.keys(styleAttributes)) {\n",
              "    element.style[key] = styleAttributes[key];\n",
              "  }\n",
              "  return element;\n",
              "}\n",
              "\n",
              "// Max number of bytes which will be uploaded at a time.\n",
              "const MAX_PAYLOAD_SIZE = 100 * 1024;\n",
              "\n",
              "function _uploadFiles(inputId, outputId) {\n",
              "  const steps = uploadFilesStep(inputId, outputId);\n",
              "  const outputElement = document.getElementById(outputId);\n",
              "  // Cache steps on the outputElement to make it available for the next call\n",
              "  // to uploadFilesContinue from Python.\n",
              "  outputElement.steps = steps;\n",
              "\n",
              "  return _uploadFilesContinue(outputId);\n",
              "}\n",
              "\n",
              "// This is roughly an async generator (not supported in the browser yet),\n",
              "// where there are multiple asynchronous steps and the Python side is going\n",
              "// to poll for completion of each step.\n",
              "// This uses a Promise to block the python side on completion of each step,\n",
              "// then passes the result of the previous step as the input to the next step.\n",
              "function _uploadFilesContinue(outputId) {\n",
              "  const outputElement = document.getElementById(outputId);\n",
              "  const steps = outputElement.steps;\n",
              "\n",
              "  const next = steps.next(outputElement.lastPromiseValue);\n",
              "  return Promise.resolve(next.value.promise).then((value) => {\n",
              "    // Cache the last promise value to make it available to the next\n",
              "    // step of the generator.\n",
              "    outputElement.lastPromiseValue = value;\n",
              "    return next.value.response;\n",
              "  });\n",
              "}\n",
              "\n",
              "/**\n",
              " * Generator function which is called between each async step of the upload\n",
              " * process.\n",
              " * @param {string} inputId Element ID of the input file picker element.\n",
              " * @param {string} outputId Element ID of the output display.\n",
              " * @return {!Iterable<!Object>} Iterable of next steps.\n",
              " */\n",
              "function* uploadFilesStep(inputId, outputId) {\n",
              "  const inputElement = document.getElementById(inputId);\n",
              "  inputElement.disabled = false;\n",
              "\n",
              "  const outputElement = document.getElementById(outputId);\n",
              "  outputElement.innerHTML = '';\n",
              "\n",
              "  const pickedPromise = new Promise((resolve) => {\n",
              "    inputElement.addEventListener('change', (e) => {\n",
              "      resolve(e.target.files);\n",
              "    });\n",
              "  });\n",
              "\n",
              "  const cancel = document.createElement('button');\n",
              "  inputElement.parentElement.appendChild(cancel);\n",
              "  cancel.textContent = 'Cancel upload';\n",
              "  const cancelPromise = new Promise((resolve) => {\n",
              "    cancel.onclick = () => {\n",
              "      resolve(null);\n",
              "    };\n",
              "  });\n",
              "\n",
              "  // Wait for the user to pick the files.\n",
              "  const files = yield {\n",
              "    promise: Promise.race([pickedPromise, cancelPromise]),\n",
              "    response: {\n",
              "      action: 'starting',\n",
              "    }\n",
              "  };\n",
              "\n",
              "  cancel.remove();\n",
              "\n",
              "  // Disable the input element since further picks are not allowed.\n",
              "  inputElement.disabled = true;\n",
              "\n",
              "  if (!files) {\n",
              "    return {\n",
              "      response: {\n",
              "        action: 'complete',\n",
              "      }\n",
              "    };\n",
              "  }\n",
              "\n",
              "  for (const file of files) {\n",
              "    const li = document.createElement('li');\n",
              "    li.append(span(file.name, {fontWeight: 'bold'}));\n",
              "    li.append(span(\n",
              "        `(${file.type || 'n/a'}) - ${file.size} bytes, ` +\n",
              "        `last modified: ${\n",
              "            file.lastModifiedDate ? file.lastModifiedDate.toLocaleDateString() :\n",
              "                                    'n/a'} - `));\n",
              "    const percent = span('0% done');\n",
              "    li.appendChild(percent);\n",
              "\n",
              "    outputElement.appendChild(li);\n",
              "\n",
              "    const fileDataPromise = new Promise((resolve) => {\n",
              "      const reader = new FileReader();\n",
              "      reader.onload = (e) => {\n",
              "        resolve(e.target.result);\n",
              "      };\n",
              "      reader.readAsArrayBuffer(file);\n",
              "    });\n",
              "    // Wait for the data to be ready.\n",
              "    let fileData = yield {\n",
              "      promise: fileDataPromise,\n",
              "      response: {\n",
              "        action: 'continue',\n",
              "      }\n",
              "    };\n",
              "\n",
              "    // Use a chunked sending to avoid message size limits. See b/62115660.\n",
              "    let position = 0;\n",
              "    do {\n",
              "      const length = Math.min(fileData.byteLength - position, MAX_PAYLOAD_SIZE);\n",
              "      const chunk = new Uint8Array(fileData, position, length);\n",
              "      position += length;\n",
              "\n",
              "      const base64 = btoa(String.fromCharCode.apply(null, chunk));\n",
              "      yield {\n",
              "        response: {\n",
              "          action: 'append',\n",
              "          file: file.name,\n",
              "          data: base64,\n",
              "        },\n",
              "      };\n",
              "\n",
              "      let percentDone = fileData.byteLength === 0 ?\n",
              "          100 :\n",
              "          Math.round((position / fileData.byteLength) * 100);\n",
              "      percent.textContent = `${percentDone}% done`;\n",
              "\n",
              "    } while (position < fileData.byteLength);\n",
              "  }\n",
              "\n",
              "  // All done.\n",
              "  yield {\n",
              "    response: {\n",
              "      action: 'complete',\n",
              "    }\n",
              "  };\n",
              "}\n",
              "\n",
              "scope.google = scope.google || {};\n",
              "scope.google.colab = scope.google.colab || {};\n",
              "scope.google.colab._files = {\n",
              "  _uploadFiles,\n",
              "  _uploadFilesContinue,\n",
              "};\n",
              "})(self);\n",
              "</script> "
            ]
          },
          "metadata": {}
        },
        {
          "output_type": "stream",
          "name": "stdout",
          "text": [
            "Saving IMG_20241019_142913.jpg to IMG_20241019_142913.jpg\n"
          ]
        }
      ]
    },
    {
      "cell_type": "markdown",
      "source": [
        "1.answer below"
      ],
      "metadata": {
        "id": "7UIF2-s-Ecdm"
      }
    },
    {
      "cell_type": "code",
      "source": [
        "def sum_of_even_numbers(numbers):\n",
        "    total = 0\n",
        "\n",
        "    for num in numbers:\n",
        "\n",
        "        if num % 2 == 0:\n",
        "            total += num\n",
        "    # The return statement should be outside the for loop\n",
        "    return total\n",
        "\n",
        "numbers = [1, 2, 3, 4, 5, 6]\n",
        "result = sum_of_even_numbers(numbers)\n",
        "print(\"The sum of even numbers is:\", result)"
      ],
      "metadata": {
        "colab": {
          "base_uri": "https://localhost:8080/"
        },
        "id": "UWEwj2tWD-4t",
        "outputId": "b4c6102c-4e54-42f4-8f2b-9b5f7fd33b67"
      },
      "execution_count": 54,
      "outputs": [
        {
          "output_type": "stream",
          "name": "stdout",
          "text": [
            "The sum of even numbers is: 12\n"
          ]
        }
      ]
    },
    {
      "cell_type": "markdown",
      "source": [
        "2.. answer below."
      ],
      "metadata": {
        "id": "Axh7QZxiFoAl"
      }
    },
    {
      "cell_type": "code",
      "source": [
        "def reverse_string(input_string):\n",
        "    # Return the reversed string using slicing\n",
        "    return input_string[::-1]\n",
        "\n",
        "# Example usage\n",
        "input_str = \"Hello, World!\"\n",
        "reversed_str = reverse_string(input_str)\n",
        "print(\"Reversed string:\", reversed_str)"
      ],
      "metadata": {
        "colab": {
          "base_uri": "https://localhost:8080/"
        },
        "id": "IP2_VfvdE9FH",
        "outputId": "b0f589b2-9686-449e-e378-ee7074060918"
      },
      "execution_count": 55,
      "outputs": [
        {
          "output_type": "stream",
          "name": "stdout",
          "text": [
            "Reversed string: !dlroW ,olleH\n"
          ]
        }
      ]
    },
    {
      "cell_type": "markdown",
      "source": [
        "3.. answer below."
      ],
      "metadata": {
        "id": "7WAdlvyHF9lO"
      }
    },
    {
      "cell_type": "code",
      "source": [
        "def square_numbers(numbers):\n",
        "    # Use a list comprehension to create a new list of squared numbers\n",
        "    return [num ** 2 for num in numbers]\n",
        "\n",
        "# Example usage\n",
        "input_numbers = [1, 2, 3, 4, 5]\n",
        "squared_numbers = square_numbers(input_numbers)\n",
        "print(\"Squared numbers:\", squared_numbers)"
      ],
      "metadata": {
        "colab": {
          "base_uri": "https://localhost:8080/"
        },
        "id": "qn1kQxOnF6oi",
        "outputId": "04847b80-56d2-42ce-a3e7-7ee5d1a10e93"
      },
      "execution_count": 56,
      "outputs": [
        {
          "output_type": "stream",
          "name": "stdout",
          "text": [
            "Squared numbers: [1, 4, 9, 16, 25]\n"
          ]
        }
      ]
    },
    {
      "cell_type": "markdown",
      "source": [
        "4.answer below."
      ],
      "metadata": {
        "id": "kpK8gVkGGfod"
      }
    },
    {
      "cell_type": "code",
      "source": [
        "def is_prime(num):\n",
        "    # Check for numbers less than 2\n",
        "    if num < 2:\n",
        "        return False\n",
        "    # Check for factors from 2 to the square root of num\n",
        "    for i in range(2, int(num**0.5) + 1):\n",
        "        if num % i == 0:\n",
        "            return False\n",
        "    return True\n",
        "\n",
        "# Example usage\n",
        "for number in range(1, 201):\n",
        "    if is_prime(number):\n",
        "        print(f\"{number} is a prime number.\")\n",
        "    else:\n",
        "        print(f\"{number} is not a prime number.\")"
      ],
      "metadata": {
        "colab": {
          "base_uri": "https://localhost:8080/"
        },
        "id": "J22nnWd-Gd0d",
        "outputId": "e1e7aff2-2a32-499d-fba0-d7600fea790f"
      },
      "execution_count": 57,
      "outputs": [
        {
          "output_type": "stream",
          "name": "stdout",
          "text": [
            "1 is not a prime number.\n",
            "2 is a prime number.\n",
            "3 is a prime number.\n",
            "4 is not a prime number.\n",
            "5 is a prime number.\n",
            "6 is not a prime number.\n",
            "7 is a prime number.\n",
            "8 is not a prime number.\n",
            "9 is not a prime number.\n",
            "10 is not a prime number.\n",
            "11 is a prime number.\n",
            "12 is not a prime number.\n",
            "13 is a prime number.\n",
            "14 is not a prime number.\n",
            "15 is not a prime number.\n",
            "16 is not a prime number.\n",
            "17 is a prime number.\n",
            "18 is not a prime number.\n",
            "19 is a prime number.\n",
            "20 is not a prime number.\n",
            "21 is not a prime number.\n",
            "22 is not a prime number.\n",
            "23 is a prime number.\n",
            "24 is not a prime number.\n",
            "25 is not a prime number.\n",
            "26 is not a prime number.\n",
            "27 is not a prime number.\n",
            "28 is not a prime number.\n",
            "29 is a prime number.\n",
            "30 is not a prime number.\n",
            "31 is a prime number.\n",
            "32 is not a prime number.\n",
            "33 is not a prime number.\n",
            "34 is not a prime number.\n",
            "35 is not a prime number.\n",
            "36 is not a prime number.\n",
            "37 is a prime number.\n",
            "38 is not a prime number.\n",
            "39 is not a prime number.\n",
            "40 is not a prime number.\n",
            "41 is a prime number.\n",
            "42 is not a prime number.\n",
            "43 is a prime number.\n",
            "44 is not a prime number.\n",
            "45 is not a prime number.\n",
            "46 is not a prime number.\n",
            "47 is a prime number.\n",
            "48 is not a prime number.\n",
            "49 is not a prime number.\n",
            "50 is not a prime number.\n",
            "51 is not a prime number.\n",
            "52 is not a prime number.\n",
            "53 is a prime number.\n",
            "54 is not a prime number.\n",
            "55 is not a prime number.\n",
            "56 is not a prime number.\n",
            "57 is not a prime number.\n",
            "58 is not a prime number.\n",
            "59 is a prime number.\n",
            "60 is not a prime number.\n",
            "61 is a prime number.\n",
            "62 is not a prime number.\n",
            "63 is not a prime number.\n",
            "64 is not a prime number.\n",
            "65 is not a prime number.\n",
            "66 is not a prime number.\n",
            "67 is a prime number.\n",
            "68 is not a prime number.\n",
            "69 is not a prime number.\n",
            "70 is not a prime number.\n",
            "71 is a prime number.\n",
            "72 is not a prime number.\n",
            "73 is a prime number.\n",
            "74 is not a prime number.\n",
            "75 is not a prime number.\n",
            "76 is not a prime number.\n",
            "77 is not a prime number.\n",
            "78 is not a prime number.\n",
            "79 is a prime number.\n",
            "80 is not a prime number.\n",
            "81 is not a prime number.\n",
            "82 is not a prime number.\n",
            "83 is a prime number.\n",
            "84 is not a prime number.\n",
            "85 is not a prime number.\n",
            "86 is not a prime number.\n",
            "87 is not a prime number.\n",
            "88 is not a prime number.\n",
            "89 is a prime number.\n",
            "90 is not a prime number.\n",
            "91 is not a prime number.\n",
            "92 is not a prime number.\n",
            "93 is not a prime number.\n",
            "94 is not a prime number.\n",
            "95 is not a prime number.\n",
            "96 is not a prime number.\n",
            "97 is a prime number.\n",
            "98 is not a prime number.\n",
            "99 is not a prime number.\n",
            "100 is not a prime number.\n",
            "101 is a prime number.\n",
            "102 is not a prime number.\n",
            "103 is a prime number.\n",
            "104 is not a prime number.\n",
            "105 is not a prime number.\n",
            "106 is not a prime number.\n",
            "107 is a prime number.\n",
            "108 is not a prime number.\n",
            "109 is a prime number.\n",
            "110 is not a prime number.\n",
            "111 is not a prime number.\n",
            "112 is not a prime number.\n",
            "113 is a prime number.\n",
            "114 is not a prime number.\n",
            "115 is not a prime number.\n",
            "116 is not a prime number.\n",
            "117 is not a prime number.\n",
            "118 is not a prime number.\n",
            "119 is not a prime number.\n",
            "120 is not a prime number.\n",
            "121 is not a prime number.\n",
            "122 is not a prime number.\n",
            "123 is not a prime number.\n",
            "124 is not a prime number.\n",
            "125 is not a prime number.\n",
            "126 is not a prime number.\n",
            "127 is a prime number.\n",
            "128 is not a prime number.\n",
            "129 is not a prime number.\n",
            "130 is not a prime number.\n",
            "131 is a prime number.\n",
            "132 is not a prime number.\n",
            "133 is not a prime number.\n",
            "134 is not a prime number.\n",
            "135 is not a prime number.\n",
            "136 is not a prime number.\n",
            "137 is a prime number.\n",
            "138 is not a prime number.\n",
            "139 is a prime number.\n",
            "140 is not a prime number.\n",
            "141 is not a prime number.\n",
            "142 is not a prime number.\n",
            "143 is not a prime number.\n",
            "144 is not a prime number.\n",
            "145 is not a prime number.\n",
            "146 is not a prime number.\n",
            "147 is not a prime number.\n",
            "148 is not a prime number.\n",
            "149 is a prime number.\n",
            "150 is not a prime number.\n",
            "151 is a prime number.\n",
            "152 is not a prime number.\n",
            "153 is not a prime number.\n",
            "154 is not a prime number.\n",
            "155 is not a prime number.\n",
            "156 is not a prime number.\n",
            "157 is a prime number.\n",
            "158 is not a prime number.\n",
            "159 is not a prime number.\n",
            "160 is not a prime number.\n",
            "161 is not a prime number.\n",
            "162 is not a prime number.\n",
            "163 is a prime number.\n",
            "164 is not a prime number.\n",
            "165 is not a prime number.\n",
            "166 is not a prime number.\n",
            "167 is a prime number.\n",
            "168 is not a prime number.\n",
            "169 is not a prime number.\n",
            "170 is not a prime number.\n",
            "171 is not a prime number.\n",
            "172 is not a prime number.\n",
            "173 is a prime number.\n",
            "174 is not a prime number.\n",
            "175 is not a prime number.\n",
            "176 is not a prime number.\n",
            "177 is not a prime number.\n",
            "178 is not a prime number.\n",
            "179 is a prime number.\n",
            "180 is not a prime number.\n",
            "181 is a prime number.\n",
            "182 is not a prime number.\n",
            "183 is not a prime number.\n",
            "184 is not a prime number.\n",
            "185 is not a prime number.\n",
            "186 is not a prime number.\n",
            "187 is not a prime number.\n",
            "188 is not a prime number.\n",
            "189 is not a prime number.\n",
            "190 is not a prime number.\n",
            "191 is a prime number.\n",
            "192 is not a prime number.\n",
            "193 is a prime number.\n",
            "194 is not a prime number.\n",
            "195 is not a prime number.\n",
            "196 is not a prime number.\n",
            "197 is a prime number.\n",
            "198 is not a prime number.\n",
            "199 is a prime number.\n",
            "200 is not a prime number.\n"
          ]
        }
      ]
    },
    {
      "cell_type": "markdown",
      "source": [
        "5.answer below."
      ],
      "metadata": {
        "id": "Nbus8Q4BHbd_"
      }
    },
    {
      "cell_type": "code",
      "source": [
        "class FibonacciIterator:\n",
        "    def __init__(self, terms): # Corrected the typo here from _init_ to __init__\n",
        "        self.terms = terms  # Number of terms to generate\n",
        "        self.current = 0    # Current term index\n",
        "        self.a, self.b = 0, 1  # Starting values for Fibonacci sequence\n",
        "\n",
        "    def __iter__(self): # Corrected the typo here from _iter_ to __iter__\n",
        "        return self\n",
        "\n",
        "    def __next__(self): # Corrected the typo here from _next_ to __next__\n",
        "        if self.current < self.terms:\n",
        "            fib_number = self.a  # Get the current Fibonacci number\n",
        "            self.a, self.b = self.b, self.a + self.b  # Update to the next Fibonacci numbers\n",
        "            self.current += 1  # Increment the current term index\n",
        "            return fib_number\n",
        "        else:\n",
        "            raise StopIteration  # Stop the iteration when the limit is reached\n",
        "\n",
        "# Example usage\n",
        "terms = 10  # Specify the number of terms\n",
        "fibonacci_sequence = FibonacciIterator(terms)\n",
        "\n",
        "print(\"Fibonacci sequence:\")\n",
        "for number in fibonacci_sequence:\n",
        "    print(number)"
      ],
      "metadata": {
        "colab": {
          "base_uri": "https://localhost:8080/"
        },
        "id": "Hz-jvgYyH2OI",
        "outputId": "26fbb048-3e2d-437e-e434-a04fb98bfb4a"
      },
      "execution_count": 59,
      "outputs": [
        {
          "output_type": "stream",
          "name": "stdout",
          "text": [
            "Fibonacci sequence:\n",
            "0\n",
            "1\n",
            "1\n",
            "2\n",
            "3\n",
            "5\n",
            "8\n",
            "13\n",
            "21\n",
            "34\n"
          ]
        }
      ]
    },
    {
      "cell_type": "markdown",
      "source": [
        "6. answer below."
      ],
      "metadata": {
        "id": "0SRe6ji1IHlz"
      }
    },
    {
      "cell_type": "code",
      "source": [
        "def powers_of_two(exponent):\n",
        "    for i in range(exponent + 1):\n",
        "        yield 2 ** i  # Yield 2 raised to the power of i\n",
        "\n",
        "# Example usage\n",
        "exponent = 10  # Specify the maximum exponent\n",
        "print(\"Powers of 2 up to 2^{}:\".format(exponent))\n",
        "for power in powers_of_two(exponent):\n",
        "    print(power)"
      ],
      "metadata": {
        "colab": {
          "base_uri": "https://localhost:8080/"
        },
        "id": "kzTN5lAAICYz",
        "outputId": "72f3ca72-8f9d-420c-d8ba-ede799defafa"
      },
      "execution_count": 60,
      "outputs": [
        {
          "output_type": "stream",
          "name": "stdout",
          "text": [
            "Powers of 2 up to 2^10:\n",
            "1\n",
            "2\n",
            "4\n",
            "8\n",
            "16\n",
            "32\n",
            "64\n",
            "128\n",
            "256\n",
            "512\n",
            "1024\n"
          ]
        }
      ]
    },
    {
      "cell_type": "markdown",
      "source": [
        "7.answer below."
      ],
      "metadata": {
        "id": "Ma1frWg9Ipp9"
      }
    },
    {
      "cell_type": "code",
      "source": [
        "def read_file_line_by_line(file_path):\n",
        "    \"\"\"Generator function to read a file line by line.\"\"\"\n",
        "    try:\n",
        "        with open(file_path, 'r') as file: # Try to open the file in read mode\n",
        "            for line in file:\n",
        "                yield line.strip()  # Yield each line, removing leading/trailing whitespace\n",
        "    except FileNotFoundError:\n",
        "        print(f\"Error: File '{file_path}' not found.\") # Print an error message if the file is not found\n",
        "        # You could also create the file here if it doesn't exist, for example:\n",
        "        # with open(file_path, 'w') as file:\n",
        "        #    file.write(\"This is a new file.\")\n",
        "\n",
        "# Example usage\n",
        "file_path = 'example.txt'  # Specify the path to your file\n",
        "print(\"Reading file line by line:\")\n",
        "for line in read_file_line_by_line(file_path):\n",
        "    print(line)"
      ],
      "metadata": {
        "colab": {
          "base_uri": "https://localhost:8080/"
        },
        "id": "C-BFRpTRJZmj",
        "outputId": "421fa618-8cec-44b9-834d-4200ec616de6"
      },
      "execution_count": 62,
      "outputs": [
        {
          "output_type": "stream",
          "name": "stdout",
          "text": [
            "Reading file line by line:\n",
            "Error: File 'example.txt' not found.\n"
          ]
        }
      ]
    },
    {
      "cell_type": "markdown",
      "source": [
        "8.answer below."
      ],
      "metadata": {
        "id": "-bvcyjhPJzBY"
      }
    },
    {
      "cell_type": "code",
      "source": [
        "tuples_list = [(1, 3), (4, 1), (2, 2), (5, 0)]\n",
        "\n",
        "# Using sorted() to sort the list based on the second element of each tuple\n",
        "sorted_list = sorted(tuples_list, key=lambda x: x[1])\n",
        "\n",
        "# Alternatively, you can use the sort() method to sort in place\n",
        "# tuples_list.sort(key=lambda x: x[1])\n",
        "\n",
        "# Example output\n",
        "print(\"Sorted list based on the second element of each tuple:\")\n",
        "print(sorted_list)"
      ],
      "metadata": {
        "colab": {
          "base_uri": "https://localhost:8080/"
        },
        "id": "OPuVy-MmJm-q",
        "outputId": "8d84e300-4228-48e0-bef2-c6eba8e35ba4"
      },
      "execution_count": 63,
      "outputs": [
        {
          "output_type": "stream",
          "name": "stdout",
          "text": [
            "Sorted list based on the second element of each tuple:\n",
            "[(5, 0), (4, 1), (2, 2), (1, 3)]\n"
          ]
        }
      ]
    },
    {
      "cell_type": "markdown",
      "source": [
        "9.answer below."
      ],
      "metadata": {
        "id": "7UiUf2PlKLeT"
      }
    },
    {
      "cell_type": "code",
      "source": [
        "def celsius_to_fahrenheit(celsius):\n",
        "    return (celsius * 9/5) + 32\n",
        "\n",
        "# List of temperatures in Celsius\n",
        "celsius_temps = [0, 20, 37, 100, -10]\n",
        "\n",
        "# Use map() to convert Celsius to Fahrenheit\n",
        "fahrenheit_temps = list(map(celsius_to_fahrenheit, celsius_temps))\n",
        "print(\"Celsius temperatures:\", celsius_temps)\n",
        "print(\"Fahrenheit temperatures:\", fahrenheit_temps)\n"
      ],
      "metadata": {
        "colab": {
          "base_uri": "https://localhost:8080/"
        },
        "id": "BF1rPOObKJ-A",
        "outputId": "d91dc1c4-b842-461d-83ca-f435e04defd2"
      },
      "execution_count": 65,
      "outputs": [
        {
          "output_type": "stream",
          "name": "stdout",
          "text": [
            "Celsius temperatures: [0, 20, 37, 100, -10]\n",
            "Fahrenheit temperatures: [32.0, 68.0, 98.6, 212.0, 14.0]\n"
          ]
        }
      ]
    },
    {
      "cell_type": "markdown",
      "source": [
        "10.solution below."
      ],
      "metadata": {
        "id": "PpOpgGQcKyXz"
      }
    },
    {
      "cell_type": "code",
      "source": [
        "def is_not_vowel(char):\n",
        "    return char.lower() not in 'aeiou'\n",
        "\n",
        "# Given string\n",
        "input_string = \"Hello, World!\"\n",
        "\n",
        "# Use filter() to remove vowels\n",
        "filtered_string = ''.join(filter(is_not_vowel, input_string))\n",
        "print(\"Original string:\", input_string)\n",
        "print(\"String after removing vowels:\", filtered_string)"
      ],
      "metadata": {
        "colab": {
          "base_uri": "https://localhost:8080/"
        },
        "id": "Yeg0fq5XKwC5",
        "outputId": "f3ed1902-0cba-49de-edf5-224ff8231d1b"
      },
      "execution_count": 66,
      "outputs": [
        {
          "output_type": "stream",
          "name": "stdout",
          "text": [
            "Original string: Hello, World!\n",
            "String after removing vowels: Hll, Wrld!\n"
          ]
        }
      ]
    },
    {
      "cell_type": "markdown",
      "source": [
        "11. solution below"
      ],
      "metadata": {
        "id": "DhB1TBxVL8f9"
      }
    },
    {
      "cell_type": "code",
      "source": [
        "# Sample order data\n",
        "orders = [\n",
        "    (34587, 40.95, 4),  # Order number, price per item, quantity\n",
        "    (98762, 56.80, 5),  # Order number, price per item, quantity\n",
        "    (77226, 32.95, 3),  # order number, price per item,quantity\n",
        "    (88112, 24.99, 3),  #order number, price per item,quantity\n",
        "]\n",
        "\n",
        "# Function to calculate order value and adjust if necessary\n",
        "def calculate_order(order):\n",
        "    order_number, price_per_item, quantity = order\n",
        "    total_value = price_per_item * quantity\n",
        "    # Reduce by €10 if total value is less than €100\n",
        "    if total_value < 100:\n",
        "        total_value -= 10\n",
        "    return (order_number, total_value)\n",
        "\n",
        "# Use map with a lambda function to apply calculate_order to each order\n",
        "result = list(map(lambda order: calculate_order(order), orders))\n",
        "\n",
        "# Example output\n",
        "print(\"Resulting list of tuples (order number, adjusted total value):\")\n",
        "print(result)"
      ],
      "metadata": {
        "colab": {
          "base_uri": "https://localhost:8080/"
        },
        "id": "VCZk_JDCM0TU",
        "outputId": "053117b7-e1b1-4650-a068-971548aa2954"
      },
      "execution_count": 69,
      "outputs": [
        {
          "output_type": "stream",
          "name": "stdout",
          "text": [
            "Resulting list of tuples (order number, adjusted total value):\n",
            "[(34587, 163.8), (98762, 284.0), (77226, 88.85000000000001), (88112, 64.97)]\n"
          ]
        }
      ]
    },
    {
      "cell_type": "code",
      "source": [],
      "metadata": {
        "id": "3nJ46nEqNIpd"
      },
      "execution_count": null,
      "outputs": []
    }
  ]
}